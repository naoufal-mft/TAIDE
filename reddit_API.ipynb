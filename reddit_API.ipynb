{
  "nbformat": 4,
  "nbformat_minor": 0,
  "metadata": {
    "colab": {
      "provenance": [],
      "authorship_tag": "ABX9TyO23PEDwFls8PVaRjjC33fx",
      "include_colab_link": true
    },
    "kernelspec": {
      "name": "python3",
      "display_name": "Python 3"
    },
    "language_info": {
      "name": "python"
    }
  },
  "cells": [
    {
      "cell_type": "markdown",
      "metadata": {
        "id": "view-in-github",
        "colab_type": "text"
      },
      "source": [
        "<a href=\"https://colab.research.google.com/github/naoufal-mft/Trading_Robot/blob/API/reddit_API.ipynb\" target=\"_parent\"><img src=\"https://colab.research.google.com/assets/colab-badge.svg\" alt=\"Open In Colab\"/></a>"
      ]
    },
    {
      "cell_type": "code",
      "execution_count": 1,
      "metadata": {
        "colab": {
          "base_uri": "https://localhost:8080/"
        },
        "id": "QzawQo05TLcp",
        "outputId": "c7904f60-3be0-4542-9b60-c6435ae3b62a"
      },
      "outputs": [
        {
          "output_type": "stream",
          "name": "stdout",
          "text": [
            "Collecting asyncpraw\n",
            "  Downloading asyncpraw-7.7.1-py3-none-any.whl (196 kB)\n",
            "\u001b[?25l     \u001b[90m━━━━━━━━━━━━━━━━━━━━━━━━━━━━━━━━━━━━━━━━\u001b[0m \u001b[32m0.0/196.7 kB\u001b[0m \u001b[31m?\u001b[0m eta \u001b[36m-:--:--\u001b[0m\r\u001b[2K     \u001b[91m━━━━━━━━━━━━━━━━━━━━━━━━━━━━━━━━━━━━━━\u001b[0m\u001b[91m╸\u001b[0m \u001b[32m194.6/196.7 kB\u001b[0m \u001b[31m6.6 MB/s\u001b[0m eta \u001b[36m0:00:01\u001b[0m\r\u001b[2K     \u001b[90m━━━━━━━━━━━━━━━━━━━━━━━━━━━━━━━━━━━━━━━\u001b[0m \u001b[32m196.7/196.7 kB\u001b[0m \u001b[31m5.1 MB/s\u001b[0m eta \u001b[36m0:00:00\u001b[0m\n",
            "\u001b[?25hCollecting aiofiles<1 (from asyncpraw)\n",
            "  Downloading aiofiles-0.8.0-py3-none-any.whl (13 kB)\n",
            "Requirement already satisfied: aiohttp<4 in /usr/local/lib/python3.10/dist-packages (from asyncpraw) (3.8.5)\n",
            "Collecting aiosqlite<=0.17.0 (from asyncpraw)\n",
            "  Downloading aiosqlite-0.17.0-py3-none-any.whl (15 kB)\n",
            "Collecting asyncprawcore<3,>=2.1 (from asyncpraw)\n",
            "  Downloading asyncprawcore-2.3.0-py3-none-any.whl (18 kB)\n",
            "Collecting update-checker>=0.18 (from asyncpraw)\n",
            "  Downloading update_checker-0.18.0-py3-none-any.whl (7.0 kB)\n",
            "Requirement already satisfied: attrs>=17.3.0 in /usr/local/lib/python3.10/dist-packages (from aiohttp<4->asyncpraw) (23.1.0)\n",
            "Requirement already satisfied: charset-normalizer<4.0,>=2.0 in /usr/local/lib/python3.10/dist-packages (from aiohttp<4->asyncpraw) (3.3.0)\n",
            "Requirement already satisfied: multidict<7.0,>=4.5 in /usr/local/lib/python3.10/dist-packages (from aiohttp<4->asyncpraw) (6.0.4)\n",
            "Requirement already satisfied: async-timeout<5.0,>=4.0.0a3 in /usr/local/lib/python3.10/dist-packages (from aiohttp<4->asyncpraw) (4.0.3)\n",
            "Requirement already satisfied: yarl<2.0,>=1.0 in /usr/local/lib/python3.10/dist-packages (from aiohttp<4->asyncpraw) (1.9.2)\n",
            "Requirement already satisfied: frozenlist>=1.1.1 in /usr/local/lib/python3.10/dist-packages (from aiohttp<4->asyncpraw) (1.4.0)\n",
            "Requirement already satisfied: aiosignal>=1.1.2 in /usr/local/lib/python3.10/dist-packages (from aiohttp<4->asyncpraw) (1.3.1)\n",
            "Requirement already satisfied: typing_extensions>=3.7.2 in /usr/local/lib/python3.10/dist-packages (from aiosqlite<=0.17.0->asyncpraw) (4.5.0)\n",
            "Requirement already satisfied: requests>=2.3.0 in /usr/local/lib/python3.10/dist-packages (from update-checker>=0.18->asyncpraw) (2.31.0)\n",
            "Requirement already satisfied: idna<4,>=2.5 in /usr/local/lib/python3.10/dist-packages (from requests>=2.3.0->update-checker>=0.18->asyncpraw) (3.4)\n",
            "Requirement already satisfied: urllib3<3,>=1.21.1 in /usr/local/lib/python3.10/dist-packages (from requests>=2.3.0->update-checker>=0.18->asyncpraw) (2.0.6)\n",
            "Requirement already satisfied: certifi>=2017.4.17 in /usr/local/lib/python3.10/dist-packages (from requests>=2.3.0->update-checker>=0.18->asyncpraw) (2023.7.22)\n",
            "Installing collected packages: aiosqlite, aiofiles, update-checker, asyncprawcore, asyncpraw\n",
            "Successfully installed aiofiles-0.8.0 aiosqlite-0.17.0 asyncpraw-7.7.1 asyncprawcore-2.3.0 update-checker-0.18.0\n"
          ]
        }
      ],
      "source": [
        "pip install asyncpraw\n"
      ]
    },
    {
      "cell_type": "code",
      "source": [
        "pip install pandas\n"
      ],
      "metadata": {
        "colab": {
          "base_uri": "https://localhost:8080/"
        },
        "id": "NPzKcaNjTkaU",
        "outputId": "1fc10563-8188-4c73-bd84-9eb8a54ac146"
      },
      "execution_count": 2,
      "outputs": [
        {
          "output_type": "stream",
          "name": "stdout",
          "text": [
            "Requirement already satisfied: pandas in /usr/local/lib/python3.10/dist-packages (1.5.3)\n",
            "Requirement already satisfied: python-dateutil>=2.8.1 in /usr/local/lib/python3.10/dist-packages (from pandas) (2.8.2)\n",
            "Requirement already satisfied: pytz>=2020.1 in /usr/local/lib/python3.10/dist-packages (from pandas) (2023.3.post1)\n",
            "Requirement already satisfied: numpy>=1.21.0 in /usr/local/lib/python3.10/dist-packages (from pandas) (1.23.5)\n",
            "Requirement already satisfied: six>=1.5 in /usr/local/lib/python3.10/dist-packages (from python-dateutil>=2.8.1->pandas) (1.16.0)\n"
          ]
        }
      ]
    },
    {
      "cell_type": "code",
      "source": [
        "pip install praw\n"
      ],
      "metadata": {
        "colab": {
          "base_uri": "https://localhost:8080/"
        },
        "id": "VtrkweFuUANd",
        "outputId": "01fa6027-a308-4855-e0a6-a4a8d0b5a23c"
      },
      "execution_count": 3,
      "outputs": [
        {
          "output_type": "stream",
          "name": "stdout",
          "text": [
            "Collecting praw\n",
            "  Downloading praw-7.7.1-py3-none-any.whl (191 kB)\n",
            "\u001b[2K     \u001b[90m━━━━━━━━━━━━━━━━━━━━━━━━━━━━━━━━━━━━━━━\u001b[0m \u001b[32m191.0/191.0 kB\u001b[0m \u001b[31m5.6 MB/s\u001b[0m eta \u001b[36m0:00:00\u001b[0m\n",
            "\u001b[?25hCollecting prawcore<3,>=2.1 (from praw)\n",
            "  Downloading prawcore-2.4.0-py3-none-any.whl (17 kB)\n",
            "Requirement already satisfied: update-checker>=0.18 in /usr/local/lib/python3.10/dist-packages (from praw) (0.18.0)\n",
            "Requirement already satisfied: websocket-client>=0.54.0 in /usr/local/lib/python3.10/dist-packages (from praw) (1.6.3)\n",
            "Requirement already satisfied: requests<3.0,>=2.6.0 in /usr/local/lib/python3.10/dist-packages (from prawcore<3,>=2.1->praw) (2.31.0)\n",
            "Requirement already satisfied: charset-normalizer<4,>=2 in /usr/local/lib/python3.10/dist-packages (from requests<3.0,>=2.6.0->prawcore<3,>=2.1->praw) (3.3.0)\n",
            "Requirement already satisfied: idna<4,>=2.5 in /usr/local/lib/python3.10/dist-packages (from requests<3.0,>=2.6.0->prawcore<3,>=2.1->praw) (3.4)\n",
            "Requirement already satisfied: urllib3<3,>=1.21.1 in /usr/local/lib/python3.10/dist-packages (from requests<3.0,>=2.6.0->prawcore<3,>=2.1->praw) (2.0.6)\n",
            "Requirement already satisfied: certifi>=2017.4.17 in /usr/local/lib/python3.10/dist-packages (from requests<3.0,>=2.6.0->prawcore<3,>=2.1->praw) (2023.7.22)\n",
            "Installing collected packages: prawcore, praw\n",
            "Successfully installed praw-7.7.1 prawcore-2.4.0\n"
          ]
        }
      ]
    },
    {
      "cell_type": "code",
      "source": [
        "import asyncio\n",
        "import asyncpraw\n",
        "import nest_asyncio\n",
        "import pandas as pd\n",
        "import praw\n",
        "import datetime\n",
        "\n",
        "nest_asyncio.apply()\n",
        "\n",
        "async def main():\n",
        "    async with asyncpraw.Reddit(\n",
        "        client_id=\"A5JdkIx6Fd_92LzdvaRhLg\",\n",
        "        client_secret=\"mHYkASS6LWg0EObYuy745JXQmU6s0w\",\n",
        "        username=\"ExternalCoyote9645\",\n",
        "        password=\"Elmehdi85?\",\n",
        "        user_agent=\"APITUTO\"\n",
        "    ) as reddit:\n",
        "        subreddit = await reddit.subreddit(\"stocks+TSLA+AAPL+finance+investing+StockMarket+wallstreetbets+SecurityAnalysis\")\n",
        "\n",
        "        reddit_data = []\n",
        "        comments_data = []\n",
        "\n",
        "        async for submission in subreddit.new(limit=50):\n",
        "            await submission.load()\n",
        "\n",
        "            submission_comments = []\n",
        "\n",
        "            async for comment in submission.comments:\n",
        "                if isinstance(comment, praw.models.Comment):\n",
        "                    if comment.score > 1:\n",
        "                        comment_data = {\n",
        "                            'Comment': comment.body,\n",
        "                            'CommentScore': comment.score,\n",
        "                            'SubmissionTitle': submission.title\n",
        "                        }\n",
        "                        comments_data.append(comment_data)\n",
        "\n",
        "            date_created = datetime.datetime.utcfromtimestamp(submission.created_utc).strftime('%Y-%m-%d %H:%M:%S')\n",
        "\n",
        "            if submission.score > 1:\n",
        "                reddit_data.append({\n",
        "                    'Title': submission.title,\n",
        "                    'Author': submission.author.name,\n",
        "                    'Score': submission.score,\n",
        "                    'Upvotes': submission.ups,\n",
        "                    'Downvotes': submission.downs,\n",
        "                    'URL': submission.url,\n",
        "                    'DateCreated': date_created\n",
        "                })\n",
        "\n",
        "        # Enregistrez les données Reddit dans un fichier CSV\n",
        "        df = pd.DataFrame(reddit_data)\n",
        "        df.to_csv('reddit_data.csv', index=False)\n",
        "\n",
        "        # Enregistrez les commentaires dans un fichier CSV distinct\n",
        "        df_comments = pd.DataFrame(comments_data)\n",
        "        df_comments.to_csv('comments_data.csv', index=False)\n",
        "\n",
        "        print(f'Données Reddit enregistrées dans reddit_data.csv')\n",
        "        print(f'Commentaires enregistrés dans comments_data.csv')\n",
        "\n",
        "if __name__ == \"__main__\":\n",
        "    loop = asyncio.get_event_loop()\n",
        "    loop.run_until_complete(main())\n"
      ],
      "metadata": {
        "colab": {
          "base_uri": "https://localhost:8080/"
        },
        "id": "gmxM2U-uTaD_",
        "outputId": "5a85cfd3-9fc7-42c9-d526-e229237cd1d0"
      },
      "execution_count": 19,
      "outputs": [
        {
          "output_type": "stream",
          "name": "stdout",
          "text": [
            "Données Reddit enregistrées dans reddit_data.csv\n",
            "Commentaires enregistrés dans comments_data.csv\n"
          ]
        }
      ]
    },
    {
      "cell_type": "code",
      "source": [
        "import asyncio\n",
        "import asyncpraw\n",
        "import nest_asyncio\n",
        "import pandas as pd\n",
        "import praw\n",
        "import datetime\n",
        "\n",
        "nest_asyncio.apply()\n",
        "\n",
        "async def main():\n",
        "    # Créez une instance de Reddit en utilisant vos informations d'application\n",
        "    reddit = asyncpraw.Reddit(\n",
        "        client_id=\"A5JdkIx6Fd_92LzdvaRhLg\",\n",
        "        client_secret=\"mHYkASS6LWg0EObYuy745JXQmU6s0w\",\n",
        "        username=\"ExternalCoyote9645\",\n",
        "        password=\"Elmehdi85?\",\n",
        "        user_agent=\"APITUTO\"\n",
        "    )\n",
        "\n",
        "    # Accédez à une subreddit spécifique (par exemple, r/stocks)\n",
        "    subreddit = await reddit.subreddit(\"stocks+TSLA+AAPL+finance+investing+StockMarket+wallstreetbets+SecurityAnalysis\")\n",
        "\n",
        "    # Créez des listes pour stocker les données \"good news\" et les commentaires correspondants\n",
        "    good_news_data = []\n",
        "    good_news_comments = []\n",
        "\n",
        "    # Créez des listes pour stocker les données \"bad news\" et les commentaires correspondants\n",
        "    bad_news_data = []\n",
        "    bad_news_comments = []\n",
        "\n",
        "    # Parcourez les publications\n",
        "    async for submission in subreddit.new(limit=70):\n",
        "        # Chargez la soumission pour accéder à ses commentaires\n",
        "        await submission.load()\n",
        "\n",
        "        submission_comments = []\n",
        "\n",
        "        # Parcourez les commentaires de la soumission\n",
        "        async for comment in submission.comments:\n",
        "            if isinstance(comment, praw.models.Comment):\n",
        "                if comment.score > 10:\n",
        "                    submission_comments.append({\n",
        "                        'Comment': comment.body,\n",
        "                        'CommentScore': comment.score,\n",
        "                    })\n",
        "\n",
        "        date_created = datetime.datetime.utcfromtimestamp(submission.created_utc).strftime('%Y-%m-%d %H:%M:%S')\n",
        "\n",
        "        # Examinez le contenu de la soumission pour déterminer s'il s'agit de \"good news\" ou \"bad news\"\n",
        "        content = submission.title\n",
        "\n",
        "        if \"good\" in content.lower() or \"positive\" in content.lower():\n",
        "            # C'est une \"good news\", ajoutez-la à la liste correspondante\n",
        "            good_news_data.append({\n",
        "                'Title': submission.title,\n",
        "                'Author': submission.author.name,\n",
        "                'Score': submission.score,\n",
        "                'Upvotes': submission.ups,\n",
        "                'Downvotes': submission.downs,\n",
        "                'URL': submission.url,\n",
        "                'DateCreated': date_created\n",
        "            })\n",
        "            # Ajoutez les commentaires à la liste des commentaires \"good news\"\n",
        "            good_news_comments.extend(submission_comments)\n",
        "        elif \"bad\" in content.lower() or \"negative\" in content.lower():\n",
        "            # C'est une \"bad news\", ajoutez-la à la liste correspondante\n",
        "            bad_news_data.append({\n",
        "                'Title': submission.title,\n",
        "                'Author': submission.author.name,\n",
        "                'Score': submission.score,\n",
        "                'Upvotes': submission.ups,\n",
        "                'Downvotes': submission.downs,\n",
        "                'URL': submission.url,\n",
        "                'DateCreated': date_created\n",
        "            })\n",
        "            # Ajoutez les commentaires à la liste des commentaires \"bad news\"\n",
        "            bad_news_comments.extend(submission_comments)\n",
        "\n",
        "    # Créez des DataFrames distincts pour les \"good news\" et les \"bad news\" ainsi que pour les commentaires correspondants\n",
        "    df_good_news = pd.DataFrame(good_news_data)\n",
        "    df_good_comments = pd.DataFrame(good_news_comments)\n",
        "    df_bad_news = pd.DataFrame(bad_news_data)\n",
        "    df_bad_comments = pd.DataFrame(bad_news_comments)\n",
        "\n",
        "    # Enregistrez les DataFrames dans des fichiers CSV distincts\n",
        "    csv_good_news_path = 'good_news_data.csv'\n",
        "    csv_good_comments_path = 'good_comments_data.csv'\n",
        "    csv_bad_news_path = 'bad_news_data.csv'\n",
        "    csv_bad_comments_path = 'bad_comments_data.csv'\n",
        "\n",
        "    df_good_news.to_csv(csv_good_news_path, index=False)\n",
        "    df_good_comments.to_csv(csv_good_comments_path, index=False)\n",
        "    df_bad_news.to_csv(csv_bad_news_path, index=False)\n",
        "    df_bad_comments.to_csv(csv_bad_comments_path, index=False)\n",
        "\n",
        "    print(f'Données \"good news\" enregistrées dans {csv_good_news_path}')\n",
        "    print(f'Commentaires correspondants aux \"good news\" enregistrés dans {csv_good_comments_path}')\n",
        "    print(f'Données \"bad news\" enregistrées dans {csv_bad_news_path}')\n",
        "    print(f'Commentaires correspondants aux \"bad news\" enregistrés dans {csv_bad_comments_path}')\n",
        "\n",
        "if __name__ == \"__main__\":\n",
        "    loop = asyncio.get_event_loop()\n",
        "    loop.run_until_complete(main())\n"
      ],
      "metadata": {
        "colab": {
          "base_uri": "https://localhost:8080/"
        },
        "id": "TSrmwHDf562C",
        "outputId": "9dc223bf-52ac-46e8-82ca-e8e43e554ee6"
      },
      "execution_count": 6,
      "outputs": [
        {
          "output_type": "stream",
          "name": "stdout",
          "text": [
            "Données \"good news\" enregistrées dans good_news_data.csv\n",
            "Commentaires correspondants aux \"good news\" enregistrés dans good_comments_data.csv\n",
            "Données \"bad news\" enregistrées dans bad_news_data.csv\n",
            "Commentaires correspondants aux \"bad news\" enregistrés dans bad_comments_data.csv\n"
          ]
        }
      ]
    }
  ]
}